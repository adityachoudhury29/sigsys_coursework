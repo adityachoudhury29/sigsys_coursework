{
 "cells": [
  {
   "cell_type": "code",
   "execution_count": 38,
   "metadata": {},
   "outputs": [],
   "source": [
    "import matplotlib.pyplot as plt\n",
    "import sympy as sp\n",
    "import numpy as np\n",
    "from scipy import signal"
   ]
  },
  {
   "cell_type": "code",
   "execution_count": 39,
   "metadata": {},
   "outputs": [],
   "source": [
    "n,a,z = sp.symbols(\"n,a,z\")\n",
    "f1 = sp.sin(n)\n",
    "f2 = a**n\n",
    "f3 = sp.Heaviside(n-3)\n",
    "f4 = (2**(-2*n))*sp.Heaviside(n)\n",
    "f5 = 2**(n+1)+2**(2-n)"
   ]
  },
  {
   "cell_type": "code",
   "execution_count": 40,
   "metadata": {},
   "outputs": [
    {
     "data": {
      "text/latex": [
       "$\\displaystyle \\sum_{n=-\\infty}^{\\infty} z^{- n} \\sin{\\left(n \\right)}$"
      ],
      "text/plain": [
       "Sum(sin(n)/z**n, (n, -oo, oo))"
      ]
     },
     "execution_count": 40,
     "metadata": {},
     "output_type": "execute_result"
    }
   ],
   "source": [
    "f1_z=sp.summation(f1*z**(-n),(n,-sp.oo,sp.oo))\n",
    "f1_z"
   ]
  },
  {
   "cell_type": "code",
   "execution_count": 41,
   "metadata": {},
   "outputs": [
    {
     "data": {
      "text/latex": [
       "$\\displaystyle \\begin{cases} \\frac{1}{1 - \\frac{z}{a}} & \\text{for}\\: \\left|{\\frac{z}{a}}\\right| < 1 \\\\\\sum_{n=-\\infty}^{0} a^{n} z^{- n} & \\text{otherwise} \\end{cases} + \\begin{cases} \\frac{1}{- \\frac{a}{z} + 1} & \\text{for}\\: \\left|{\\frac{a}{z}}\\right| < 1 \\\\\\sum_{n=0}^{\\infty} a^{n} z^{- n} & \\text{otherwise} \\end{cases}$"
      ],
      "text/plain": [
       "Piecewise((1/(1 - z/a), Abs(z/a) < 1), (Sum(a**n/z**n, (n, -oo, 0)), True)) + Piecewise((1/(-a/z + 1), Abs(a/z) < 1), (Sum(a**n/z**n, (n, 0, oo)), True))"
      ]
     },
     "execution_count": 41,
     "metadata": {},
     "output_type": "execute_result"
    }
   ],
   "source": [
    "f2_z=sp.summation(f2*z**(-n),(n,-sp.oo,0))+sp.summation(f2*z**(-n),(n,0,sp.oo))\n",
    "f2_z"
   ]
  },
  {
   "cell_type": "code",
   "execution_count": 42,
   "metadata": {},
   "outputs": [
    {
     "data": {
      "text/latex": [
       "$\\displaystyle \\sum_{n=-\\infty}^{\\infty} z^{- n} \\theta\\left(n - 3\\right)$"
      ],
      "text/plain": [
       "Sum(Heaviside(n - 3)/z**n, (n, -oo, oo))"
      ]
     },
     "execution_count": 42,
     "metadata": {},
     "output_type": "execute_result"
    }
   ],
   "source": [
    "f3_z=sp.summation(f3*z**(-n),(n,-sp.oo,sp.oo))\n",
    "f3_z"
   ]
  },
  {
   "cell_type": "code",
   "execution_count": 43,
   "metadata": {},
   "outputs": [
    {
     "data": {
      "text/latex": [
       "$\\displaystyle \\sum_{n=-\\infty}^{\\infty} 2^{- 2 n} z^{- n} \\theta\\left(n\\right)$"
      ],
      "text/plain": [
       "Sum(Heaviside(n)/(2**(2*n)*z**n), (n, -oo, oo))"
      ]
     },
     "execution_count": 43,
     "metadata": {},
     "output_type": "execute_result"
    }
   ],
   "source": [
    "f4_z=sp.summation(f4*z**(-n),(n,-sp.oo,sp.oo))\n",
    "f4_z"
   ]
  },
  {
   "cell_type": "code",
   "execution_count": 44,
   "metadata": {},
   "outputs": [
    {
     "data": {
      "text/latex": [
       "$\\displaystyle \\sum_{n=-\\infty}^{\\infty} z^{- n} \\left(2^{2 - n} + 2^{n + 1}\\right)$"
      ],
      "text/plain": [
       "Sum((2**(2 - n) + 2**(n + 1))/z**n, (n, -oo, oo))"
      ]
     },
     "execution_count": 44,
     "metadata": {},
     "output_type": "execute_result"
    }
   ],
   "source": [
    "f5_z=sp.summation(f5*z**(-n),(n,-sp.oo,sp.oo))\n",
    "f5_z"
   ]
  },
  {
   "cell_type": "markdown",
   "metadata": {},
   "source": [
    "**Question-2**"
   ]
  },
  {
   "cell_type": "code",
   "execution_count": null,
   "metadata": {},
   "outputs": [],
   "source": []
  }
 ],
 "metadata": {
  "kernelspec": {
   "display_name": "Python 3",
   "language": "python",
   "name": "python3"
  },
  "language_info": {
   "codemirror_mode": {
    "name": "ipython",
    "version": 3
   },
   "file_extension": ".py",
   "mimetype": "text/x-python",
   "name": "python",
   "nbconvert_exporter": "python",
   "pygments_lexer": "ipython3",
   "version": "3.10.12"
  }
 },
 "nbformat": 4,
 "nbformat_minor": 2
}
